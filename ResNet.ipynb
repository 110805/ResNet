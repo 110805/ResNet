{
  "nbformat": 4,
  "nbformat_minor": 0,
  "metadata": {
    "colab": {
      "name": "ResNet.ipynb",
      "provenance": [],
      "authorship_tag": "ABX9TyNcLI16M+m3cTv36aNSDZER",
      "include_colab_link": true
    },
    "kernelspec": {
      "name": "python3",
      "display_name": "Python 3"
    },
    "accelerator": "GPU"
  },
  "cells": [
    {
      "cell_type": "markdown",
      "metadata": {
        "id": "view-in-github",
        "colab_type": "text"
      },
      "source": [
        "<a href=\"https://colab.research.google.com/github/110805/Retinopathy_detection/blob/master/ResNet.ipynb\" target=\"_parent\"><img src=\"https://colab.research.google.com/assets/colab-badge.svg\" alt=\"Open In Colab\"/></a>"
      ]
    },
    {
      "cell_type": "code",
      "metadata": {
        "id": "MS752F2UECRT",
        "colab_type": "code",
        "outputId": "813bee15-5554-4d32-9080-3c31764a3bde",
        "colab": {
          "base_uri": "https://localhost:8080/",
          "height": 139
        }
      },
      "source": [
        "!git clone https://github.com/110805/Retinopathy_detection.git\n",
        "%cd Retinopathy_detection/"
      ],
      "execution_count": 0,
      "outputs": [
        {
          "output_type": "stream",
          "text": [
            "Cloning into 'Retinopathy_detection'...\n",
            "remote: Enumerating objects: 35135, done.\u001b[K\n",
            "remote: Total 35135 (delta 0), reused 0 (delta 0), pack-reused 35135\u001b[K\n",
            "Receiving objects: 100% (35135/35135), 556.71 MiB | 35.88 MiB/s, done.\n",
            "Resolving deltas: 100% (2/2), done.\n",
            "Checking out files: 100% (35132/35132), done.\n",
            "/content/Retinopathy_detection\n"
          ],
          "name": "stdout"
        }
      ]
    },
    {
      "cell_type": "code",
      "metadata": {
        "id": "nh30p2lwEaDh",
        "colab_type": "code",
        "outputId": "8455f782-b609-43b5-ab57-f67690240661",
        "colab": {
          "base_uri": "https://localhost:8080/",
          "height": 235
        }
      },
      "source": [
        "import pandas as pd\n",
        "from torch.utils import data\n",
        "import numpy as np\n",
        "from PIL import Image\n",
        "\n",
        "\n",
        "def getData(mode):\n",
        "    if mode == 'train':\n",
        "        img = pd.read_csv('train_img.csv')\n",
        "        label = pd.read_csv('train_label.csv')\n",
        "        return np.squeeze(img.values), np.squeeze(label.values)\n",
        "    else:\n",
        "        img = pd.read_csv('test_img.csv')\n",
        "        label = pd.read_csv('test_label.csv')\n",
        "        return np.squeeze(img.values), np.squeeze(label.values)\n",
        "\n",
        "\n",
        "class RetinopathyLoader(data.Dataset):\n",
        "    def __init__(self, root, mode):\n",
        "        \"\"\"\n",
        "        Args:\n",
        "            root (string): Root path of the dataset.\n",
        "            mode : Indicate procedure status(training or testing)\n",
        "\n",
        "            self.img_name (string list): String list that store all image names.\n",
        "            self.label (int or float list): Numerical list that store all ground truth label values.\n",
        "        \"\"\"\n",
        "        self.root = root\n",
        "        self.img_name, self.label = getData(mode)\n",
        "        self.mode = mode\n",
        "        print(\"> Found %d images...\" % (len(self.img_name)))\n",
        "\n",
        "    def __len__(self):\n",
        "        \"\"\"'return the size of dataset\"\"\"\n",
        "        return len(self.img_name)\n",
        "\n",
        "    def __getitem__(self, index):\n",
        "        \"\"\"something you should implement here\"\"\"\n",
        "\n",
        "        \"\"\"\n",
        "           step1. Get the image path from 'self.img_name' and load it.\n",
        "                  hint : path = root + self.img_name[index] + '.jpeg'\n",
        "           \n",
        "           step2. Get the ground truth label from self.label\n",
        "                     \n",
        "           step3. Transform the .jpeg rgb images during the training phase, such as resizing, random flipping, \n",
        "                  rotation, cropping, normalization etc. But at the beginning, I suggest you follow the hints. \n",
        "                       \n",
        "                  In the testing phase, if you have a normalization process during the training phase, you only need \n",
        "                  to normalize the data. \n",
        "                  \n",
        "                  hints : Convert the pixel value to [0, 1]\n",
        "                          Transpose the image shape from [H, W, C] to [C, H, W]\n",
        "                         \n",
        "            step4. Return processed image and label\n",
        "        \"\"\"\n",
        "        img_path = self.root + self.img_name[index] + '.jpeg'\n",
        "        img = Image.open(img_path)\n",
        "        label = self.label[index]\n",
        "\n",
        "        return img, label\n",
        "        \n",
        "img, label = RetinopathyLoader(root='/content/Retinopathy_detection/data/', mode='train')\n",
        "print(len(img))"
      ],
      "execution_count": 14,
      "outputs": [
        {
          "output_type": "stream",
          "text": [
            "> Found 28099 images...\n"
          ],
          "name": "stdout"
        },
        {
          "output_type": "error",
          "ename": "ValueError",
          "evalue": "ignored",
          "traceback": [
            "\u001b[0;31m---------------------------------------------------------------------------\u001b[0m",
            "\u001b[0;31mValueError\u001b[0m                                Traceback (most recent call last)",
            "\u001b[0;32m<ipython-input-14-57d083a59ee6>\u001b[0m in \u001b[0;36m<module>\u001b[0;34m()\u001b[0m\n\u001b[1;32m     61\u001b[0m         \u001b[0;32mreturn\u001b[0m \u001b[0mimg\u001b[0m\u001b[0;34m,\u001b[0m \u001b[0mlabel\u001b[0m\u001b[0;34m\u001b[0m\u001b[0;34m\u001b[0m\u001b[0m\n\u001b[1;32m     62\u001b[0m \u001b[0;34m\u001b[0m\u001b[0m\n\u001b[0;32m---> 63\u001b[0;31m \u001b[0mimg\u001b[0m\u001b[0;34m,\u001b[0m \u001b[0mlabel\u001b[0m \u001b[0;34m=\u001b[0m \u001b[0mRetinopathyLoader\u001b[0m\u001b[0;34m(\u001b[0m\u001b[0mroot\u001b[0m\u001b[0;34m=\u001b[0m\u001b[0;34m'/content/Retinopathy_detection/data/'\u001b[0m\u001b[0;34m,\u001b[0m \u001b[0mmode\u001b[0m\u001b[0;34m=\u001b[0m\u001b[0;34m'train'\u001b[0m\u001b[0;34m)\u001b[0m\u001b[0;34m\u001b[0m\u001b[0;34m\u001b[0m\u001b[0m\n\u001b[0m\u001b[1;32m     64\u001b[0m \u001b[0mprint\u001b[0m\u001b[0;34m(\u001b[0m\u001b[0mlen\u001b[0m\u001b[0;34m(\u001b[0m\u001b[0mimg\u001b[0m\u001b[0;34m)\u001b[0m\u001b[0;34m)\u001b[0m\u001b[0;34m\u001b[0m\u001b[0;34m\u001b[0m\u001b[0m\n",
            "\u001b[0;31mValueError\u001b[0m: too many values to unpack (expected 2)"
          ]
        }
      ]
    }
  ]
}